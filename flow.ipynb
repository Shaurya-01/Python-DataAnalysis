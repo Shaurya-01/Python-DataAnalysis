{
 "cells": [
  {
   "cell_type": "markdown",
   "metadata": {},
   "source": [
    "## Progamming flow\n",
    "\n",
    "- conditional flow\n",
    "  - if\n",
    "  - if else\n",
    "  - if elif else\n",
    "  - match case\n",
    "- iterative flow \n",
    "  - for loop\n",
    "  - while loop"
   ]
  },
  {
   "cell_type": "code",
   "execution_count": null,
   "metadata": {},
   "outputs": [],
   "source": [
    "if 'hello':\n",
    "    print('hello everyone')"
   ]
  },
  {
   "cell_type": "code",
   "execution_count": null,
   "metadata": {},
   "outputs": [],
   "source": [
    "x = 'hello'\n",
    "if len(x) >= 5:\n",
    "    print('Hello everyone')"
   ]
  },
  {
   "cell_type": "code",
   "execution_count": null,
   "metadata": {},
   "outputs": [],
   "source": [
    "a = int(input(\"Enter a number\"))\n",
    "if a*2 >= 100:\n",
    "    print('a * 2 is greater than 100')\n",
    "if a+50 > 100:\n",
    "    print('a + 50 is greater than 100')"
   ]
  },
  {
   "cell_type": "code",
   "execution_count": null,
   "metadata": {},
   "outputs": [],
   "source": [
    "x = int(input(\"Enter a number\"))\n",
    "if x%2 == 0:\n",
    "    print(\"The number is even\")\n",
    "else:\n",
    "    print(\"x is odd\")"
   ]
  },
  {
   "cell_type": "markdown",
   "metadata": {},
   "source": [
    "WAP to find the total salary of an employee based in the following data\n",
    "total salary: user input\n",
    "hra = 5%\n",
    "da = 3.3%\n",
    "ta = 2.61%\n",
    "\n",
    "total = salary + da + ta + hra\n",
    "\n",
    "*rule*\n",
    "if hra is less than 1000 then dont add hra to total"
   ]
  },
  {
   "cell_type": "code",
   "execution_count": null,
   "metadata": {},
   "outputs": [],
   "source": [
    "salary = int(input(\"Enter the salary of the employee\"))\n",
    "hra = 0.05*salary\n",
    "da = 0.033*salary\n",
    "ta = 0.0261*salary\n",
    "if hra < 1000:\n",
    "    total = salary + da + ta\n",
    "else:\n",
    "    total = salary + hra + da + ta\n",
    "print(total)"
   ]
  },
  {
   "cell_type": "code",
   "execution_count": null,
   "metadata": {},
   "outputs": [],
   "source": [
    "name = input(\"What movie did you watch?\")\n",
    "num_str = input('Enter movie rating:')\n",
    "if num_str.isnumeric():\n",
    "    num = int(num_str)\n",
    "    print(f'Movie: {name}')\n",
    "    if num == 1:\n",
    "        print('⭐️')\n",
    "    elif num == 2:\n",
    "        print('⭐️⭐️')\n",
    "    elif num == 3:\n",
    "        print('⭐️⭐️⭐️')\n",
    "    elif num == 4:\n",
    "        print('⭐️⭐️⭐️⭐️')\n",
    "    elif num == 5:\n",
    "        print('⭐️⭐️⭐️⭐️⭐️')\n",
    "    else:\n",
    "        print('Invalid rating')\n",
    "else:\n",
    "    print('Uncultured')"
   ]
  },
  {
   "cell_type": "code",
   "execution_count": null,
   "metadata": {},
   "outputs": [],
   "source": [
    "# Match case - use this to match multiple values\n",
    "\n",
    "day = input('Enter a day of the week:')\n",
    "match day.lower():\n",
    "    case 'monday'|'tuesday'|'wednesday'|'friday':\n",
    "        print('Class is there')\n",
    "    case 'thursday':\n",
    "        print('Holiday')\n",
    "    case 'sunday'|'saturday':\n",
    "        print('Weekend')\n",
    "    case _: #default case\n",
    "        print('Invalid day')\n"
   ]
  },
  {
   "cell_type": "markdown",
   "metadata": {},
   "source": [
    "## Single line conditions"
   ]
  },
  {
   "cell_type": "code",
   "execution_count": null,
   "metadata": {},
   "outputs": [],
   "source": [
    "x =  int(input('Enter a number'))\n",
    "print(\"above 100\") if x>100 else print(\"below 100\")"
   ]
  },
  {
   "cell_type": "markdown",
   "metadata": {},
   "source": [
    "### for loop\n",
    "- step based\n",
    "- traversal\n",
    "-for var in interable:\n",
    "    `statement...`\n",
    "### while loop\n",
    "- condition based "
   ]
  },
  {
   "cell_type": "code",
   "execution_count": null,
   "metadata": {},
   "outputs": [],
   "source": [
    "for i in 'hello':\n",
    "    print(i)"
   ]
  },
  {
   "cell_type": "code",
   "execution_count": null,
   "metadata": {},
   "outputs": [],
   "source": [
    "colors = ['red', 'green', 'blue']\n",
    "for i in colors:\n",
    "    print(i)"
   ]
  },
  {
   "cell_type": "code",
   "execution_count": null,
   "metadata": {},
   "outputs": [],
   "source": [
    "#index and values\n",
    "for i,v in enumerate(colors):  # enumerate gives two values\n",
    "    print(i,v)"
   ]
  },
  {
   "cell_type": "code",
   "execution_count": null,
   "metadata": {},
   "outputs": [],
   "source": [
    "numlist = [12,56,7,2,6,10,20]\n",
    "for num in numlist:\n",
    "    print(f'{num:<3} => {num * 10:>3}')"
   ]
  },
  {
   "cell_type": "code",
   "execution_count": null,
   "metadata": {},
   "outputs": [],
   "source": [
    "numlist = [1,2,3,4,5,6,7,8,9,10]\n",
    "for num in numlist:\n",
    "    print(f'13 * {num} = {num*13}')"
   ]
  },
  {
   "cell_type": "markdown",
   "metadata": {},
   "source": [
    "range(value) => start from 0 go till value -1\n",
    "\n",
    "range(a,b) => start from a go till b-1\n",
    "\n",
    "range(a,b,c) => start from a go to b-1 with step c"
   ]
  },
  {
   "cell_type": "code",
   "execution_count": null,
   "metadata": {},
   "outputs": [],
   "source": [
    "for i in range(1,11):\n",
    "    print(f'13 * {i} = {13*i}')"
   ]
  },
  {
   "cell_type": "code",
   "execution_count": null,
   "metadata": {},
   "outputs": [],
   "source": [
    "for i in range(1, 101, 2):  # all odd numbers\n",
    "    print(i)"
   ]
  },
  {
   "cell_type": "code",
   "execution_count": null,
   "metadata": {},
   "outputs": [],
   "source": [
    "# reverse loop\n",
    "for i in range(10, 0, -1):\n",
    "    print(i)"
   ]
  },
  {
   "cell_type": "markdown",
   "metadata": {},
   "source": [
    "- Nested \n",
    "- break and continue\n",
    "- for-else"
   ]
  },
  {
   "cell_type": "code",
   "execution_count": 48,
   "metadata": {},
   "outputs": [
    {
     "name": "stdout",
     "output_type": "stream",
     "text": [
      "123\n",
      "123\n",
      "123\n",
      "123\n",
      "123\n",
      "123\n",
      "123\n",
      "123\n",
      "123\n",
      "123\n"
     ]
    }
   ],
   "source": [
    "for i in range(1,11):\n",
    "    for j in range(1,4):\n",
    "        print(j, end='')\n",
    "    print()"
   ]
  },
  {
   "cell_type": "code",
   "execution_count": 53,
   "metadata": {},
   "outputs": [
    {
     "name": "stdout",
     "output_type": "stream",
     "text": [
      "1  John  25  \n",
      "2  Jane  22  \n",
      "3  Doe  30  Batman  \n"
     ]
    }
   ],
   "source": [
    "cdata = [\n",
    "    [1,'John',25],\n",
    "    [2,'Jane',22],\n",
    "    [3,'Doe', 30, 'Batman']\n",
    "]\n",
    "\n",
    "for row in cdata:\n",
    "    for i in row:\n",
    "        print(i, end='  ')\n",
    "    print()\n",
    "    "
   ]
  },
  {
   "cell_type": "code",
   "execution_count": 58,
   "metadata": {},
   "outputs": [
    {
     "name": "stdout",
     "output_type": "stream",
     "text": [
      "12 45 67 \n",
      "23 45 67 \n",
      "34 56 78 \n",
      "\n",
      "23 45 23 \n",
      "34 56 78 \n",
      "\n"
     ]
    }
   ],
   "source": [
    "more_data = [\n",
    "    [[12,45,67], [23,45,67], [34,56,78]],\n",
    "    [[23,45,23], [34,56,78]]\n",
    "]\n",
    "\n",
    "for i in more_data:\n",
    "    for j in i:\n",
    "        for k in j:\n",
    "            print(k, end=' ')\n",
    "        print()\n",
    "    print()\n",
    "    "
   ]
  },
  {
   "cell_type": "code",
   "execution_count": 61,
   "metadata": {},
   "outputs": [
    {
     "name": "stdout",
     "output_type": "stream",
     "text": [
      "1\n",
      "2\n",
      "3\n",
      "4\n",
      "5\n"
     ]
    }
   ],
   "source": [
    "x = [1,2,3,4,5,-1,6,7,8,9,10]\n",
    "for i in x:\n",
    "    if i < 0:\n",
    "        break\n",
    "    print(i)"
   ]
  },
  {
   "cell_type": "code",
   "execution_count": null,
   "metadata": {},
   "outputs": [],
   "source": []
  },
  {
   "cell_type": "code",
   "execution_count": 75,
   "metadata": {},
   "outputs": [
    {
     "name": "stdout",
     "output_type": "stream",
     "text": [
      "1 2 3 6 8 9 11 13 14 15 \n",
      "\n",
      "1 2 3 6 8 9 11 13 14 15 "
     ]
    }
   ],
   "source": [
    "data_with_crap = [1,2,3,'4','5',6,'7',8,9,'10',11,'12',13,14,15]\n",
    "for i in data_with_crap:\n",
    "    if isinstance(i,str):\n",
    "        continue\n",
    "    print(i, end=' ')\n",
    "\n",
    "    ###############\n",
    "print('\\n')\n",
    "for i in data_with_crap:\n",
    "    if isinstance(i, int):\n",
    "        print(i, end=' ')"
   ]
  },
  {
   "cell_type": "code",
   "execution_count": 80,
   "metadata": {},
   "outputs": [
    {
     "name": "stdout",
     "output_type": "stream",
     "text": [
      "1\n",
      "2\n",
      "3\n",
      "4\n",
      "5\n",
      "6\n",
      "7\n",
      "8\n",
      "9\n",
      "10\n",
      "count: 10\n",
      "Loop completed all steps\n"
     ]
    }
   ],
   "source": [
    "data = [1,2,3,4,5,6,7,8,9,10]\n",
    "stop_val = int(input('Enter a number to stop at: '))\n",
    "count = 0\n",
    "for i in data:\n",
    "    if stop_val == i:\n",
    "        break\n",
    "    print(i)\n",
    "    count += 1\n",
    "print(f'count: {count}')\n",
    "if count == len(data):\n",
    "    print('Loop completed all steps')"
   ]
  },
  {
   "cell_type": "code",
   "execution_count": 82,
   "metadata": {},
   "outputs": [
    {
     "name": "stdout",
     "output_type": "stream",
     "text": [
      "1\n",
      "2\n",
      "3\n",
      "4\n",
      "5\n",
      "6\n",
      "7\n",
      "8\n",
      "9\n",
      "10\n",
      "Loop completed all the steps\n"
     ]
    }
   ],
   "source": [
    "# adding check for loop completion using for else\n",
    "\n",
    "data = [1,2,3,4,5,6,7,8,9,10]\n",
    "stop_val = int(input('Enter a number to stop at: '))\n",
    "for i in data:\n",
    "    if stop_val == i:\n",
    "        break\n",
    "    print(i)\n",
    "else:\n",
    "    print(\"Loop completed all the steps\")"
   ]
  },
  {
   "cell_type": "markdown",
   "metadata": {},
   "source": [
    "prime numbers using for else"
   ]
  },
  {
   "cell_type": "markdown",
   "metadata": {},
   "source": []
  }
 ],
 "metadata": {
  "kernelspec": {
   "display_name": "base",
   "language": "python",
   "name": "python3"
  },
  "language_info": {
   "codemirror_mode": {
    "name": "ipython",
    "version": 3
   },
   "file_extension": ".py",
   "mimetype": "text/x-python",
   "name": "python",
   "nbconvert_exporter": "python",
   "pygments_lexer": "ipython3",
   "version": "3.12.3"
  }
 },
 "nbformat": 4,
 "nbformat_minor": 2
}
