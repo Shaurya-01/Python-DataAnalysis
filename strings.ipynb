{
 "cells": [
  {
   "cell_type": "markdown",
   "metadata": {},
   "source": [
    "- Creating\n",
    "- Indexing and Slicing\n",
    "- methods\n",
    "- Tips and tricks"
   ]
  },
  {
   "cell_type": "code",
   "execution_count": null,
   "metadata": {},
   "outputs": [],
   "source": [
    "a = 'apple'\n",
    "b = \"apple\"\n",
    "c = '''This is very \n",
    "useful in \n",
    "in multiline messages'''\n",
    "d = str(1234)"
   ]
  },
  {
   "cell_type": "code",
   "execution_count": null,
   "metadata": {},
   "outputs": [],
   "source": [
    "x = f'{a} is a fruit'\n",
    "print(x)\n",
    "# raw string is a special string in while special characters behave like a normal string\n",
    "addr = r'c:\\users\\shaurya\\desktop'\n",
    "#unicode string\n",
    "uni = u'hello'\n",
    "print(uni)\n",
    "# byte string\n",
    "byt = b'hello'\n",
    "print(byt)"
   ]
  },
  {
   "cell_type": "code",
   "execution_count": null,
   "metadata": {},
   "outputs": [],
   "source": [
    "v = 'encyclopedia'\n",
    "i=0\n",
    "while i < len(v):\n",
    "    print(v[i])\n",
    "    i+=1\n",
    "print(v[-1]) #last index\n",
    "print(v[-2]) #second last index\n"
   ]
  },
  {
   "cell_type": "markdown",
   "metadata": {},
   "source": [
    "## Slicing in python\n",
    "x[start : stop]"
   ]
  },
  {
   "cell_type": "code",
   "execution_count": null,
   "metadata": {},
   "outputs": [],
   "source": [
    "a = 'Encyclopedia'\n",
    "print(a[2:8])   # last index is not included"
   ]
  },
  {
   "cell_type": "code",
   "execution_count": null,
   "metadata": {},
   "outputs": [],
   "source": [
    "name = 'Vijay deenanath chauhan'\n",
    "n1 = name[0:5]\n",
    "n2 = name[6:15]\n",
    "n3 = name[16:23]\n",
    "print(n1,n2,n3)\n",
    "\n"
   ]
  },
  {
   "cell_type": "code",
   "execution_count": null,
   "metadata": {},
   "outputs": [],
   "source": [
    "name[:5] # first 5 characters"
   ]
  },
  {
   "cell_type": "code",
   "execution_count": null,
   "metadata": {},
   "outputs": [],
   "source": [
    "name[6:] # from 6th index to end"
   ]
  },
  {
   "cell_type": "code",
   "execution_count": null,
   "metadata": {},
   "outputs": [],
   "source": [
    "msg = \"Jorney before destination\"\n",
    "msg[-11]"
   ]
  },
  {
   "cell_type": "code",
   "execution_count": null,
   "metadata": {},
   "outputs": [],
   "source": [
    "msg = \"Once upon a time, there was a place called eternia\"\n",
    "msg[-7:]\n",
    "msg[:16]"
   ]
  },
  {
   "cell_type": "code",
   "execution_count": null,
   "metadata": {},
   "outputs": [],
   "source": [
    "amt = '$800999'\n",
    "amt1 = amt[1:]\n",
    "a = int(amt1)\n",
    "print(a)\n",
    "a = a+1\n",
    "print(a)"
   ]
  },
  {
   "cell_type": "code",
   "execution_count": null,
   "metadata": {},
   "outputs": [],
   "source": [
    "msg[::2] # every ssecond character (even index)\n",
    "msg[1::2] # every ssecond character (odd index)"
   ]
  },
  {
   "cell_type": "code",
   "execution_count": null,
   "metadata": {},
   "outputs": [],
   "source": [
    "msg[::-1] # reverse the string"
   ]
  },
  {
   "cell_type": "code",
   "execution_count": null,
   "metadata": {},
   "outputs": [],
   "source": [
    "msg[::-1][:5]"
   ]
  },
  {
   "cell_type": "code",
   "execution_count": null,
   "metadata": {},
   "outputs": [],
   "source": [
    "name[6:15][::-1]"
   ]
  },
  {
   "cell_type": "markdown",
   "metadata": {},
   "source": [
    "## String Methods\n",
    "\n",
    "- formatting\n",
    "- validation\n",
    "- find & replace\n",
    "- etc."
   ]
  },
  {
   "cell_type": "code",
   "execution_count": null,
   "metadata": {},
   "outputs": [],
   "source": [
    "quote = 'ALl ThAt glitters is not gold'\n",
    "quote_upper = quote.upper()\n",
    "print(quote)\n",
    "print(quote_upper)\n",
    "quote_lower = quote.lower()\n",
    "print(quote_lower)\n",
    "print(quote.capitalize())\n",
    "print(quote.swapcase())\n",
    "print(quote.title())\n",
    "print(quote.casefold()) # same as lower case"
   ]
  },
  {
   "cell_type": "code",
   "execution_count": null,
   "metadata": {},
   "outputs": [],
   "source": [
    "quote.ljust\n",
    "quote.rjust\n",
    "quote.center"
   ]
  },
  {
   "cell_type": "code",
   "execution_count": null,
   "metadata": {},
   "outputs": [],
   "source": [
    "a = \"Batman\"\n",
    "b = \"      Batman\"\n",
    "print(a.rjust(12))\n",
    "print(b.rjust(0))"
   ]
  },
  {
   "cell_type": "code",
   "execution_count": null,
   "metadata": {},
   "outputs": [],
   "source": [
    "name.isnumeric()\n"
   ]
  },
  {
   "cell_type": "code",
   "execution_count": null,
   "metadata": {},
   "outputs": [],
   "source": [
    "fname = input(\"Enter your name: (dont use numbers)\")\n",
    "if fname.isalpha():   # if a space is included in the string, it won't work\n",
    "    print(\"Valid name\")\n",
    "else:\n",
    "    print(\"What kind of name is this?\") "
   ]
  },
  {
   "cell_type": "code",
   "execution_count": null,
   "metadata": {},
   "outputs": [],
   "source": [
    "# find and index methods - used for searching in string\n",
    "msg.find('place') # return the index of the first occurence of the substring"
   ]
  },
  {
   "cell_type": "code",
   "execution_count": null,
   "metadata": {},
   "outputs": [],
   "source": [
    "data = '''Roshar is a place of magic and wonder ,\n",
    "place of knights and kings.\n",
    "Its a place of highstorms and shardblades'''\n",
    "print(data.find('place'))\n",
    "print(data.find('place',13))\n",
    "print(data.find('Place')) # -1 means not found\n",
    "print(data.lower().find('place'))\n",
    "\n",
    "# reverse find\n",
    "print(data.rfind('place'))\n",
    "\n",
    "# differece betweeen index and find is that index crashes if the substring is not there and find returns -1"
   ]
  },
  {
   "cell_type": "code",
   "execution_count": null,
   "metadata": {},
   "outputs": [],
   "source": [
    "# Replace Method\n",
    "data.replace('place','world')"
   ]
  },
  {
   "cell_type": "code",
   "execution_count": null,
   "metadata": {},
   "outputs": [],
   "source": [
    "data.replace('i','e').replace('k','c').replace('a','b')"
   ]
  },
  {
   "cell_type": "code",
   "execution_count": null,
   "metadata": {},
   "outputs": [],
   "source": [
    "data.replace(' ','_',3)  # will only replace first 3."
   ]
  },
  {
   "cell_type": "code",
   "execution_count": null,
   "metadata": {},
   "outputs": [],
   "source": [
    "fruits = input(\"Enter names of fruits\")\n",
    "fruitlist = fruits.split()\n",
    "print(fruitlist)"
   ]
  },
  {
   "cell_type": "code",
   "execution_count": null,
   "metadata": {},
   "outputs": [],
   "source": [
    "'Hakuna Matata'.split()"
   ]
  },
  {
   "cell_type": "code",
   "execution_count": 142,
   "metadata": {},
   "outputs": [
    {
     "data": {
      "text/plain": [
       "['Life before death',\n",
       " ' strength before weakness',\n",
       " ' journey before destination']"
      ]
     },
     "execution_count": 142,
     "metadata": {},
     "output_type": "execute_result"
    }
   ],
   "source": [
    "quote = 'Life before death, strength before weakness, journey before destination'\n",
    "quote.split(',')"
   ]
  },
  {
   "cell_type": "code",
   "execution_count": null,
   "metadata": {},
   "outputs": [],
   "source": [
    "quote.split('before')"
   ]
  },
  {
   "cell_type": "code",
   "execution_count": null,
   "metadata": {},
   "outputs": [],
   "source": [
    "poem = '''Johnny Johnny, yes papa\n",
    "eating sugar? no papa\n",
    "telling lies? no papa\n",
    "open your mouth, ha ha ha'''\n",
    "poem.splitlines()"
   ]
  },
  {
   "cell_type": "code",
   "execution_count": 130,
   "metadata": {},
   "outputs": [
    {
     "data": {
      "text/plain": [
       "'C:/ users/ Shaurya/ desktop/ file.txt'"
      ]
     },
     "execution_count": 130,
     "metadata": {},
     "output_type": "execute_result"
    }
   ],
   "source": [
    "addr = ['C:','users','Shaurya','desktop','file.txt']\n",
    "\"/ \".join(addr)"
   ]
  },
  {
   "cell_type": "code",
   "execution_count": 109,
   "metadata": {},
   "outputs": [
    {
     "name": "stdout",
     "output_type": "stream",
     "text": [
      "['shaurya', 'may', '2004']\n",
      "img_shaurya_may_2004.jpg\n"
     ]
    }
   ],
   "source": [
    "name = input('Enter your name, month and year of birth seperated by comma: ')\n",
    "words = name.split(',')\n",
    "print(words)\n",
    "name = \"_\".join(words)\n",
    "print(f'img_{name}.jpg')"
   ]
  },
  {
   "cell_type": "markdown",
   "metadata": {},
   "source": [
    "Questions\n"
   ]
  },
  {
   "cell_type": "code",
   "execution_count": 137,
   "metadata": {},
   "outputs": [
    {
     "name": "stdout",
     "output_type": "stream",
     "text": [
      "Batman\n",
      "6\n",
      "great\n",
      "python\n",
      "is \n",
      "everywhere\n",
      "!dlroW olleH\n",
      "HOW ARE YOU?\n",
      "how is it going?\n",
      "['Python', 'is', 'easy', 'to', 'learn']\n",
      "Hi\n",
      "how\n",
      "are you?\n",
      "to move to newline '\\n' is used\n",
      "The variable is 15\n"
     ]
    }
   ],
   "source": [
    "#1\n",
    "bat = 'Batman'\n",
    "print(bat)\n",
    "#2\n",
    "s = input(\"Enter a string\")\n",
    "print(len(s))\n",
    "#3\n",
    "p = 'Python is great'\n",
    "print(p[10:])\n",
    "#4\n",
    "p1 = '''python\n",
    "is \n",
    "everywhere'''\n",
    "print(p1)\n",
    "#5\n",
    "p2 = 'Hello World!'\n",
    "print(p2[::-1])\n",
    "#6\n",
    "p3 = 'How are you?'\n",
    "p3 = p3[:-1].upper()+p3[-1]\n",
    "print(p3)\n",
    "#7\n",
    "p4 = 'How Is It Going?'\n",
    "p4 = p4[:-1].lower()+p3[-1]\n",
    "print(p4)\n",
    "#8\n",
    "words = ['Python', 'is', 'easy', 'to', 'learn']\n",
    "\" \".join(words)\n",
    "print(words)\n",
    "#9\n",
    "print('Hi\\nhow\\nare you?')\n",
    "#10\n",
    "s = r\"to move to newline '\\n' is used\" # can use // to stop the behavior of \\n\n",
    "print(s)\n",
    "#11\n",
    "p5 = 15\n",
    "print(f'The variable is {p5}')\n"
   ]
  },
  {
   "cell_type": "code",
   "execution_count": 139,
   "metadata": {},
   "outputs": [
    {
     "name": "stdout",
     "output_type": "stream",
     "text": [
      "before occurs 3 times\n"
     ]
    }
   ],
   "source": [
    "# count\n",
    "n = quote.count('before')\n",
    "print(f'before occurs {n} times')"
   ]
  },
  {
   "cell_type": "code",
   "execution_count": 140,
   "metadata": {},
   "outputs": [
    {
     "name": "stdout",
     "output_type": "stream",
     "text": [
      "Hello ma'am\n"
     ]
    }
   ],
   "source": [
    "name = input(\"Enter your name\")\n",
    "if name.startswith('Mr.'):\n",
    "    print (\"Hello sir\")\n",
    "else:\n",
    "    print(\"Hello ma'am\")"
   ]
  },
  {
   "cell_type": "code",
   "execution_count": 141,
   "metadata": {},
   "outputs": [
    {
     "name": "stdout",
     "output_type": "stream",
     "text": [
      "Dataset file\n"
     ]
    }
   ],
   "source": [
    "filename = input(\"Enter file name\")\n",
    "if filename.endswith('.csv'):\n",
    "    print(\"Dataset file\")\n",
    "if filename.endswith('.txt'):\n",
    "    print(\"Text file\")\n",
    "    "
   ]
  },
  {
   "cell_type": "code",
   "execution_count": 144,
   "metadata": {},
   "outputs": [
    {
     "name": "stdout",
     "output_type": "stream",
     "text": [
      "    batman\n",
      "batman\n",
      "Characters in movie name: 10\n",
      "Characters in movie name: 6\n"
     ]
    }
   ],
   "source": [
    "# strip\n",
    "movie = input(\"Enter movie name\")\n",
    "clean_movie = movie.strip()  # removes leading and trailing whitespaces (means can also remove \\n spaces)\n",
    "print(movie)\n",
    "print(clean_movie)\n",
    "print(f'Characters in movie name: {len(movie)}')\n",
    "print(f'Characters in movie name: {len(clean_movie)}')"
   ]
  },
  {
   "cell_type": "code",
   "execution_count": 145,
   "metadata": {},
   "outputs": [
    {
     "name": "stdout",
     "output_type": "stream",
     "text": [
      "hello\n"
     ]
    }
   ],
   "source": [
    "print('\\n\\nhello\\n\\n'.strip())"
   ]
  },
  {
   "cell_type": "code",
   "execution_count": 147,
   "metadata": {},
   "outputs": [
    {
     "name": "stdout",
     "output_type": "stream",
     "text": [
      "hello\n"
     ]
    }
   ],
   "source": [
    "print(',,,hello***'.strip(',*'))"
   ]
  },
  {
   "cell_type": "markdown",
   "metadata": {},
   "source": [
    "Questions\n"
   ]
  },
  {
   "cell_type": "code",
   "execution_count": 148,
   "metadata": {},
   "outputs": [
    {
     "data": {
      "text/plain": [
       "True"
      ]
     },
     "execution_count": 148,
     "metadata": {},
     "output_type": "execute_result"
    }
   ],
   "source": [
    "\"fyi\" in \"fyikjbdla\""
   ]
  },
  {
   "cell_type": "code",
   "execution_count": 152,
   "metadata": {},
   "outputs": [
    {
     "name": "stdout",
     "output_type": "stream",
     "text": [
      "!\"#$%&'()*+,-./:;<=>?@[\\]^_`{|}~\n",
      "!\n",
      "\"\n",
      "#\n",
      "$\n",
      "%\n",
      "&\n",
      "'\n",
      "(\n",
      ")\n",
      "*\n",
      "+\n",
      ",\n",
      "-\n",
      ".\n",
      "/\n",
      ":\n",
      ";\n",
      "<\n",
      "=\n",
      ">\n",
      "?\n",
      "@\n",
      "[\n",
      "\\\n",
      "]\n",
      "^\n",
      "_\n",
      "`\n",
      "{\n",
      "|\n",
      "}\n",
      "~\n",
      "0\n",
      "1\n",
      "2\n",
      "3\n",
      "4\n",
      "5\n",
      "6\n",
      "7\n",
      "8\n",
      "9\n",
      "python\n"
     ]
    }
   ],
   "source": [
    "from string import punctuation, digits\n",
    "#print(punctuation)\n",
    "print(punctuation)\n",
    "text = '%p34@y!*-*!t68h#&on404'\n",
    "for i in punctuation+digits:\n",
    "    print(i)\n",
    "    text = text.replace(i,'')\n",
    "print(text)"
   ]
  },
  {
   "cell_type": "code",
   "execution_count": 156,
   "metadata": {},
   "outputs": [
    {
     "name": "stdout",
     "output_type": "stream",
     "text": [
      "4.0\n"
     ]
    }
   ],
   "source": [
    "#25\n",
    "sentences = \"This is Batman\"\n",
    "total = 0\n",
    "for word in sentences.split():\n",
    "     total += len(word)\n",
    "print(total/len(sentences.split()))"
   ]
  },
  {
   "cell_type": "code",
   "execution_count": null,
   "metadata": {},
   "outputs": [],
   "source": []
  }
 ],
 "metadata": {
  "kernelspec": {
   "display_name": "base",
   "language": "python",
   "name": "python3"
  },
  "language_info": {
   "codemirror_mode": {
    "name": "ipython",
    "version": 3
   },
   "file_extension": ".py",
   "mimetype": "text/x-python",
   "name": "python",
   "nbconvert_exporter": "python",
   "pygments_lexer": "ipython3",
   "version": "3.12.3"
  }
 },
 "nbformat": 4,
 "nbformat_minor": 2
}
