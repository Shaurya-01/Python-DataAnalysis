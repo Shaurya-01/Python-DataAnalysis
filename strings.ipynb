{
 "cells": [
  {
   "cell_type": "markdown",
   "metadata": {},
   "source": [
    "- Creating\n",
    "- Indexing and Slicing\n",
    "- methods\n",
    "- Tips and tricks"
   ]
  },
  {
   "cell_type": "code",
   "execution_count": null,
   "metadata": {},
   "outputs": [],
   "source": [
    "a = 'apple'\n",
    "b = \"apple\"\n",
    "c = '''This is very \n",
    "useful in \n",
    "in multiline messages'''\n",
    "d = str(1234)"
   ]
  },
  {
   "cell_type": "code",
   "execution_count": null,
   "metadata": {},
   "outputs": [],
   "source": [
    "x = f'{a} is a fruit'\n",
    "print(x)\n",
    "# raw string is a special string in while special characters behave like a normal string\n",
    "addr = r'c:\\users\\zaid\\desktop'\n",
    "#unicode string\n",
    "uni = u'hello'\n",
    "print(uni)\n",
    "# byte string\n",
    "byt = b'hello'\n",
    "print(byt)"
   ]
  },
  {
   "cell_type": "code",
   "execution_count": null,
   "metadata": {},
   "outputs": [],
   "source": [
    "v = 'encyclopedia'\n",
    "i=0\n",
    "while i < len(v):\n",
    "    print(v[i])\n",
    "    i+=1\n",
    "print(v[-1]) #last index\n",
    "print(v[-2]) #second last index\n"
   ]
  },
  {
   "cell_type": "code",
   "execution_count": null,
   "metadata": {},
   "outputs": [],
   "source": []
  }
 ],
 "metadata": {
  "kernelspec": {
   "display_name": "base",
   "language": "python",
   "name": "python3"
  },
  "language_info": {
   "codemirror_mode": {
    "name": "ipython",
    "version": 3
   },
   "file_extension": ".py",
   "mimetype": "text/x-python",
   "name": "python",
   "nbconvert_exporter": "python",
   "pygments_lexer": "ipython3",
   "version": "3.12.3"
  }
 },
 "nbformat": 4,
 "nbformat_minor": 2
}
