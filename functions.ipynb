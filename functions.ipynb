{
 "cells": [
  {
   "cell_type": "markdown",
   "metadata": {},
   "source": [
    "## Functions\n",
    "functions are of two types\n",
    "- pre-defined(print, input, sum, len, type)\n",
    "\n",
    "- user-defined(defined by coder)\n",
    "\n",
    "  - code reusability\n",
    "  - easy debuging\n",
    "  - manageable\n"
   ]
  },
  {
   "cell_type": "code",
   "execution_count": 4,
   "metadata": {},
   "outputs": [],
   "source": [
    "# defining the function\n",
    "def greetings():\n",
    "    print('🌤️🌤️🌤️🌤️')\n",
    "    print('Good morning')\n",
    "    print('🌤️🌤️🌤️🌤️')\n"
   ]
  },
  {
   "cell_type": "code",
   "execution_count": 5,
   "metadata": {},
   "outputs": [
    {
     "data": {
      "text/plain": [
       "<function __main__.greetings()>"
      ]
     },
     "execution_count": 5,
     "metadata": {},
     "output_type": "execute_result"
    }
   ],
   "source": [
    "# calling a function\n",
    "greetings "
   ]
  },
  {
   "cell_type": "code",
   "execution_count": 6,
   "metadata": {},
   "outputs": [
    {
     "name": "stdout",
     "output_type": "stream",
     "text": [
      "🌤️🌤️🌤️🌤️\n",
      "Good morning\n",
      "🌤️🌤️🌤️🌤️\n"
     ]
    }
   ],
   "source": [
    "greetings()"
   ]
  },
  {
   "cell_type": "code",
   "execution_count": 2,
   "metadata": {},
   "outputs": [
    {
     "name": "stdout",
     "output_type": "stream",
     "text": [
      "🎲5\n"
     ]
    }
   ],
   "source": [
    "def roll():\n",
    "    from random import randint\n",
    "    dice = randint(1,6)\n",
    "    print(f'🎲{dice}')\n",
    "roll()"
   ]
  },
  {
   "cell_type": "code",
   "execution_count": 3,
   "metadata": {},
   "outputs": [
    {
     "name": "stdout",
     "output_type": "stream",
     "text": [
      "🎲5\n"
     ]
    }
   ],
   "source": [
    "roll() "
   ]
  },
  {
   "cell_type": "code",
   "execution_count": 19,
   "metadata": {},
   "outputs": [
    {
     "name": "stdout",
     "output_type": "stream",
     "text": [
      "The area is 30\n"
     ]
    }
   ],
   "source": [
    "def area(l: int, b: int) -> None:\n",
    "    a = l*b\n",
    "    print(f'The area is {a}')\n",
    "\n",
    "l = int(input(\"Enter the values of length and breadth\"))\n",
    "b = int(input(\"Enter the values of length and breadth\"))\n",
    "area(l,b)"
   ]
  },
  {
   "cell_type": "code",
   "execution_count": 20,
   "metadata": {},
   "outputs": [],
   "source": [
    "def fiver():\n",
    "    from random import choices\n",
    "    data = list(range(1,101))\n",
    "    return choices(data, k=5)"
   ]
  },
  {
   "cell_type": "code",
   "execution_count": 22,
   "metadata": {},
   "outputs": [
    {
     "data": {
      "text/plain": [
       "[81, 52, 92, 68, 65]"
      ]
     },
     "execution_count": 22,
     "metadata": {},
     "output_type": "execute_result"
    }
   ],
   "source": [
    "fiver()"
   ]
  },
  {
   "cell_type": "code",
   "execution_count": 30,
   "metadata": {},
   "outputs": [
    {
     "name": "stdout",
     "output_type": "stream",
     "text": [
      "[99, 75, 21, 96, 57]\n",
      "[25, 40, 40, 80, 15]\n"
     ]
    }
   ],
   "source": [
    "trial_1 = fiver()\n",
    "trial_2 = fiver()\n",
    "print(trial_1)\n",
    "print(trial_2)"
   ]
  },
  {
   "cell_type": "code",
   "execution_count": 41,
   "metadata": {},
   "outputs": [
    {
     "name": "stdout",
     "output_type": "stream",
     "text": [
      "The area of circle is 102.0186\n"
     ]
    }
   ],
   "source": [
    "def area_circle(rad):\n",
    "    r = 3.14*(rad**2)\n",
    "    print(f'The area of circle is {r}')\n",
    "rad = float(input('Enter the radius:'))\n",
    "area(rad)"
   ]
  },
  {
   "cell_type": "code",
   "execution_count": 47,
   "metadata": {},
   "outputs": [
    {
     "name": "stdout",
     "output_type": "stream",
     "text": [
      "btmn\n"
     ]
    }
   ],
   "source": [
    "def unvowel(st):\n",
    "    for i in 'AEIOUaeiou':\n",
    "        st = st.replace(i,'')\n",
    "    print(st)\n",
    "st = input('Enter a string')\n",
    "unvowel(st)"
   ]
  },
  {
   "cell_type": "code",
   "execution_count": 2,
   "metadata": {},
   "outputs": [],
   "source": [
    "def summer(a,b,c=0,d=0):\n",
    "    return a+b+c+d"
   ]
  },
  {
   "cell_type": "code",
   "execution_count": 4,
   "metadata": {},
   "outputs": [
    {
     "name": "stdout",
     "output_type": "stream",
     "text": [
      "30\n",
      "10\n",
      "17\n",
      "22\n"
     ]
    }
   ],
   "source": [
    "print(summer(10,20))\n",
    "print(summer(2,3,5)) # positional arguments\n",
    "print(summer(2, 3, d=12)) # named arguments (keyword arguments)\n",
    "print(summer(2, 3, d=12, c=5)) # named arguments allows changing the order of the arguments\n"
   ]
  },
  {
   "cell_type": "markdown",
   "metadata": {},
   "source": [
    "### Lamda functions - anonymous function\n",
    "f(x) = x + 5 * x - 2"
   ]
  },
  {
   "cell_type": "code",
   "execution_count": 6,
   "metadata": {},
   "outputs": [
    {
     "name": "stdout",
     "output_type": "stream",
     "text": [
      "<function <lambda> at 0x1156827a0>\n"
     ]
    }
   ],
   "source": [
    "f = lambda x: x + 5 * x - 2\n",
    "g = lambda x,y: x+y/2"
   ]
  },
  {
   "cell_type": "code",
   "execution_count": 8,
   "metadata": {},
   "outputs": [
    {
     "name": "stdout",
     "output_type": "stream",
     "text": [
      "10\n",
      "25.5\n"
     ]
    }
   ],
   "source": [
    "print(f(2))\n",
    "print(g(3,45))"
   ]
  },
  {
   "cell_type": "code",
   "execution_count": 9,
   "metadata": {},
   "outputs": [
    {
     "name": "stdout",
     "output_type": "stream",
     "text": [
      "12.568\n",
      "10\n"
     ]
    }
   ],
   "source": [
    "ac = lambda r: 3.142 * r ** 2 \n",
    "perimeter = lambda l,b: 2 *(l+b)\n",
    "print(ac(2))\n",
    "print(perimeter(2, 3))"
   ]
  },
  {
   "cell_type": "code",
   "execution_count": null,
   "metadata": {},
   "outputs": [],
   "source": []
  }
 ],
 "metadata": {
  "kernelspec": {
   "display_name": "base",
   "language": "python",
   "name": "python3"
  },
  "language_info": {
   "codemirror_mode": {
    "name": "ipython",
    "version": 3
   },
   "file_extension": ".py",
   "mimetype": "text/x-python",
   "name": "python",
   "nbconvert_exporter": "python",
   "pygments_lexer": "ipython3",
   "version": "3.12.3"
  }
 },
 "nbformat": 4,
 "nbformat_minor": 2
}
