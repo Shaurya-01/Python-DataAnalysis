{
 "cells": [
  {
   "cell_type": "markdown",
   "metadata": {},
   "source": [
    "# Basics\n",
    "- variable\n",
    "- input \n",
    "- output"
   ]
  },
  {
   "cell_type": "markdown",
   "metadata": {},
   "source": [
    "# Theory\n",
    "\n",
    "- strongly typed, one in which data type have to be specified\n",
    "- dynamically typed, one in which data typed does not have to be specified\n",
    "- file vs notebook\n"
   ]
  },
  {
   "cell_type": "code",
   "execution_count": null,
   "metadata": {},
   "outputs": [],
   "source": [
    "x = 1.1\n",
    "y = \"Batman\"\n",
    "a = [1, 2 , 3, 4]\n",
    "b = {'name':'shaurya', 'age':20}"
   ]
  },
  {
   "cell_type": "code",
   "execution_count": null,
   "metadata": {},
   "outputs": [],
   "source": [
    "x "
   ]
  },
  {
   "cell_type": "code",
   "execution_count": null,
   "metadata": {},
   "outputs": [],
   "source": [
    "input()"
   ]
  },
  {
   "cell_type": "code",
   "execution_count": null,
   "metadata": {},
   "outputs": [],
   "source": [
    "name = input(\"Enter your name\")\n",
    "city = input(\"Enter your city\")"
   ]
  },
  {
   "cell_type": "code",
   "execution_count": null,
   "metadata": {},
   "outputs": [],
   "source": [
    "num1 = input(\"Enter a number A\")\n",
    "num2 = input(\"Enter a number B\")\n"
   ]
  },
  {
   "cell_type": "markdown",
   "metadata": {},
   "source": [
    "## Displaying Data"
   ]
  },
  {
   "cell_type": "code",
   "execution_count": null,
   "metadata": {},
   "outputs": [],
   "source": [
    "print('Welcome to Displaying Data')"
   ]
  },
  {
   "cell_type": "code",
   "execution_count": null,
   "metadata": {},
   "outputs": [],
   "source": [
    "a = 'Drake'\n",
    "b = 'Kendrick'\n",
    "print(a)\n",
    "print(b)"
   ]
  },
  {
   "cell_type": "code",
   "execution_count": null,
   "metadata": {},
   "outputs": [],
   "source": [
    "name = input('Enter your name')\n",
    "print('Your name is',name)"
   ]
  },
  {
   "cell_type": "code",
   "execution_count": null,
   "metadata": {},
   "outputs": [],
   "source": [
    "num1 = input(\"Enter a number\")\n",
    "num2 = input(\"Enter another number\")\n",
    "print('You have entered number',num1,'and',num2)"
   ]
  },
  {
   "cell_type": "markdown",
   "metadata": {},
   "source": [
    "## Different types of print\n",
    "\n",
    "- 1. Comma Seperated\n",
    "- 2. Format String\n",
    "- 3. Format function\n",
    "- 4. String concatenation\n",
    "- 5. f-string"
   ]
  },
  {
   "cell_type": "code",
   "execution_count": null,
   "metadata": {},
   "outputs": [],
   "source": [
    "# format string\n",
    "a, b, c = 5, 3.2, \"Hello\"\n",
    "print(\"The values are %d, %f, %s\"%(a,b,c))"
   ]
  },
  {
   "cell_type": "code",
   "execution_count": null,
   "metadata": {},
   "outputs": [],
   "source": [
    "# format method\n",
    "print('The value of a={}, b={}, c={}'.format(a,b,c))"
   ]
  },
  {
   "cell_type": "code",
   "execution_count": null,
   "metadata": {},
   "outputs": [],
   "source": [
    "# String concatenation\n",
    "print('Hello '+'World')\n",
    "print(\"The value of a = \"+str(a))"
   ]
  },
  {
   "cell_type": "code",
   "execution_count": null,
   "metadata": {},
   "outputs": [],
   "source": [
    "# f-string\n",
    "num1 = input(\"Enter a number\")\n",
    "num2 = input(\"Enter another number\")\n",
    "print(f'You have entered {num1} and {num2}')"
   ]
  },
  {
   "cell_type": "code",
   "execution_count": null,
   "metadata": {},
   "outputs": [],
   "source": [
    "print('The value of a = '+str(a)+', b = '+str(b)+', c = '+c)"
   ]
  },
  {
   "cell_type": "code",
   "execution_count": null,
   "metadata": {},
   "outputs": [],
   "source": [
    "# formatting values\n",
    "a,b = 10,3\n",
    "print(f'{a}/{b} = {a/b}')\n",
    "print(f'{a}/{b} = {a/b:.2f}') #.2f = 2 Decimal places"
   ]
  },
  {
   "cell_type": "code",
   "execution_count": null,
   "metadata": {},
   "outputs": [],
   "source": [
    "# alignment\n",
    "name = 'Lana'\n",
    "print(f'You are {name}')\n",
    "print(f'You are {name:10}') # 10 is the number of characters for display\n",
    "print(f'You are {name:>10}') # Right alignment\n",
    "print(f'You are {name:^50}') # centre alignment"
   ]
  },
  {
   "cell_type": "code",
   "execution_count": null,
   "metadata": {},
   "outputs": [],
   "source": [
    "a,b,c,d  = 'Apple', 'Blueberry', 'Cherry', 'Dragonfruit'\n",
    "print (f'🍎fruit 1: {a:>11}')\n",
    "print (f'🫐fruit 2: {b:>11}')\n",
    "print (f'🍒fruit 3: {c:>11}')\n",
    "print (f'🐲fruit 4: {d:>11}')"
   ]
  },
  {
   "cell_type": "markdown",
   "metadata": {},
   "source": [
    "## Operators\n",
    "- Arithmetic  + - * / % // **\n",
    "- assignment  = += -= *= /= and so on\n",
    "- comparison \n",
    "- logical and or not\n",
    "- relationship  in \n",
    "- identity  \"is\"  checks if variables are in the same memory location\n",
    "- bitwise\n"
   ]
  },
  {
   "cell_type": "code",
   "execution_count": null,
   "metadata": {},
   "outputs": [],
   "source": [
    "x = 10\n",
    "y = 3\n",
    "print (f'{x} + {y} = {x+y}')\n",
    "print (f'{x} - {y} = {x-y}')\n",
    "print (f'{x} * {y} = {x*y}')\n",
    "print (f'{x}/{y} = {x/y}')\n",
    "print (f'{x}//{y} = {x//y}')\n",
    "print (f'{x} % {y} = {x%y}')\n",
    "print (f'{x} ** {y} = {x**y}')"
   ]
  },
  {
   "cell_type": "code",
   "execution_count": null,
   "metadata": {},
   "outputs": [],
   "source": [
    "x = 120\n",
    "x+=5\n",
    "x/=2"
   ]
  },
  {
   "cell_type": "code",
   "execution_count": null,
   "metadata": {},
   "outputs": [],
   "source": [
    "print(x > y)\n",
    "print(x < y)\n",
    "print(x == y)\n",
    "print(x != y)\n",
    "print(x >= y)\n",
    "print(x <= y)"
   ]
  },
  {
   "cell_type": "code",
   "execution_count": null,
   "metadata": {},
   "outputs": [],
   "source": [
    "x + 10 > y +50"
   ]
  },
  {
   "cell_type": "code",
   "execution_count": null,
   "metadata": {},
   "outputs": [],
   "source": [
    "x > y and x > 100"
   ]
  },
  {
   "cell_type": "code",
   "execution_count": null,
   "metadata": {},
   "outputs": [],
   "source": [
    "x > 100 or y > 2"
   ]
  },
  {
   "cell_type": "code",
   "execution_count": null,
   "metadata": {},
   "outputs": [],
   "source": [
    "x > y and x > 100  # this will not be displayed, use print if you want to display both the lines\n",
    "x > 100 or y > 2"
   ]
  },
  {
   "cell_type": "code",
   "execution_count": null,
   "metadata": {},
   "outputs": [],
   "source": [
    "fruits  = ['Apple', 'Blueberry', 'Cherry', 'Dragonfruit']\n",
    "print('Apple' in fruits)\n",
    "print('apple' in fruits)"
   ]
  },
  {
   "cell_type": "code",
   "execution_count": null,
   "metadata": {},
   "outputs": [],
   "source": [
    "f = fruits # the values of fruits does not get stored in f but f is a reference to fruits. So now the data in fruits is known by two variables i.e fruits and f\n",
    "print(f is fruits)\n",
    "f2 = fruits.copy() # f2 is a copy of fruits\n",
    "print( f2 is fruits)"
   ]
  },
  {
   "cell_type": "markdown",
   "metadata": {},
   "source": [
    "## Typecasting"
   ]
  },
  {
   "cell_type": "code",
   "execution_count": null,
   "metadata": {},
   "outputs": [],
   "source": [
    "x = 10 \n",
    "xf = float(x)\n",
    "print(x, xf)\n",
    "print(type(x), type(xf))\n",
    "print(type(x), type(xf))\n",
    "\n",
    "# checking if x is an integer\n",
    "\n",
    "print(isinstance(x, int))\n",
    "print(isinstance(xf, int))\n",
    "print(isinstance(x, (int, float)))"
   ]
  },
  {
   "cell_type": "code",
   "execution_count": null,
   "metadata": {},
   "outputs": [],
   "source": [
    "int('20a') # this will not work"
   ]
  },
  {
   "cell_type": "code",
   "execution_count": null,
   "metadata": {},
   "outputs": [],
   "source": [
    "ord('a') # returns the unicode value of a character"
   ]
  },
  {
   "cell_type": "code",
   "execution_count": null,
   "metadata": {},
   "outputs": [],
   "source": [
    "print(chr(97)) # returns the character of a unicode value"
   ]
  },
  {
   "cell_type": "code",
   "execution_count": null,
   "metadata": {},
   "outputs": [],
   "source": []
  }
 ],
 "metadata": {
  "kernelspec": {
   "display_name": "base",
   "language": "python",
   "name": "python3"
  },
  "language_info": {
   "codemirror_mode": {
    "name": "ipython",
    "version": 3
   },
   "file_extension": ".py",
   "mimetype": "text/x-python",
   "name": "python",
   "nbconvert_exporter": "python",
   "pygments_lexer": "ipython3",
   "version": "3.12.3"
  }
 },
 "nbformat": 4,
 "nbformat_minor": 2
}
