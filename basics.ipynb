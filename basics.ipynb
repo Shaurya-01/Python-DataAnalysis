{
 "cells": [
  {
   "cell_type": "markdown",
   "metadata": {},
   "source": [
    "# Basics\n",
    "- variable\n",
    "- input \n",
    "- output"
   ]
  },
  {
   "cell_type": "markdown",
   "metadata": {},
   "source": [
    "# Theory\n",
    "\n",
    "- strongly typed, one in which data type have to be specified\n",
    "- dynamically typed, one in which data typed does not have to be specified\n",
    "- file vs notebook\n"
   ]
  },
  {
   "cell_type": "code",
   "execution_count": 2,
   "metadata": {},
   "outputs": [],
   "source": [
    "x = 1.1\n",
    "y = \"Batman\"\n",
    "a = [1, 2 , 3, 4]\n",
    "b = {'name':'shaurya', 'age':20}"
   ]
  },
  {
   "cell_type": "code",
   "execution_count": 3,
   "metadata": {},
   "outputs": [
    {
     "data": {
      "text/plain": [
       "1.1"
      ]
     },
     "execution_count": 3,
     "metadata": {},
     "output_type": "execute_result"
    }
   ],
   "source": [
    "x "
   ]
  },
  {
   "cell_type": "code",
   "execution_count": 4,
   "metadata": {},
   "outputs": [
    {
     "data": {
      "text/plain": [
       "'i am batman'"
      ]
     },
     "execution_count": 4,
     "metadata": {},
     "output_type": "execute_result"
    }
   ],
   "source": [
    "input()"
   ]
  },
  {
   "cell_type": "code",
   "execution_count": 7,
   "metadata": {},
   "outputs": [],
   "source": [
    "name = input(\"Enter your name\")\n",
    "city = input(\"Enter your city\")"
   ]
  },
  {
   "cell_type": "code",
   "execution_count": 10,
   "metadata": {},
   "outputs": [],
   "source": [
    "num1 = input(\"Enter a number A\")\n",
    "num2 = input(\"Enter a number B\")\n"
   ]
  },
  {
   "cell_type": "markdown",
   "metadata": {},
   "source": [
    "## Displaying Data"
   ]
  },
  {
   "cell_type": "code",
   "execution_count": 12,
   "metadata": {},
   "outputs": [
    {
     "name": "stdout",
     "output_type": "stream",
     "text": [
      "Welcome to Displaying Data\n"
     ]
    }
   ],
   "source": [
    "print('Welcome to Displaying Data')"
   ]
  },
  {
   "cell_type": "code",
   "execution_count": 13,
   "metadata": {},
   "outputs": [
    {
     "name": "stdout",
     "output_type": "stream",
     "text": [
      "Drake\n",
      "Kendrick\n"
     ]
    }
   ],
   "source": [
    "a = 'Drake'\n",
    "b = 'Kendrick'\n",
    "print(a)\n",
    "print(b)"
   ]
  },
  {
   "cell_type": "code",
   "execution_count": 16,
   "metadata": {},
   "outputs": [
    {
     "name": "stdout",
     "output_type": "stream",
     "text": [
      "Your name is Shaurya\n"
     ]
    }
   ],
   "source": [
    "name = input('Enter your name')\n",
    "print('Your name is',name)"
   ]
  },
  {
   "cell_type": "code",
   "execution_count": 17,
   "metadata": {},
   "outputs": [
    {
     "name": "stdout",
     "output_type": "stream",
     "text": [
      "You have entered number 4 and 5\n"
     ]
    }
   ],
   "source": [
    "num1 = input(\"Enter a number\")\n",
    "num2 = input(\"Enter another number\")\n",
    "print('You have entered number',num1,'and',num2)"
   ]
  },
  {
   "cell_type": "markdown",
   "metadata": {},
   "source": [
    "## Different types of print\n",
    "\n",
    "- 1. Comma Seperated\n",
    "- 2. Format String\n",
    "- 3. Format function\n",
    "- 4. String concatenation\n",
    "- 5. f-string"
   ]
  },
  {
   "cell_type": "code",
   "execution_count": 19,
   "metadata": {},
   "outputs": [
    {
     "name": "stdout",
     "output_type": "stream",
     "text": [
      "The values are 5, 3.200000, Hello\n"
     ]
    }
   ],
   "source": [
    "# format string\n",
    "a, b, c = 5, 3.2, \"Hello\"\n",
    "print(\"The values are %d, %f, %s\"%(a,b,c))"
   ]
  },
  {
   "cell_type": "code",
   "execution_count": 21,
   "metadata": {},
   "outputs": [
    {
     "name": "stdout",
     "output_type": "stream",
     "text": [
      "The value of a=5, b=3.2, c=Hello\n"
     ]
    }
   ],
   "source": [
    "# format method\n",
    "print('The value of a={}, b={}, c={}'.format(a,b,c))"
   ]
  },
  {
   "cell_type": "code",
   "execution_count": 24,
   "metadata": {},
   "outputs": [
    {
     "name": "stdout",
     "output_type": "stream",
     "text": [
      "Hello World\n",
      "The value of a = 5\n"
     ]
    }
   ],
   "source": [
    "# String concatenation\n",
    "print('Hello '+'World')\n",
    "print(\"The value of a = \"+str(a))"
   ]
  },
  {
   "cell_type": "code",
   "execution_count": 23,
   "metadata": {},
   "outputs": [
    {
     "name": "stdout",
     "output_type": "stream",
     "text": [
      "You have entered 4 and 5\n"
     ]
    }
   ],
   "source": [
    "# f-string\n",
    "num1 = input(\"Enter a number\")\n",
    "num2 = input(\"Enter another number\")\n",
    "print(f'You have entered {num1} and {num2}')"
   ]
  },
  {
   "cell_type": "code",
   "execution_count": 25,
   "metadata": {},
   "outputs": [
    {
     "name": "stdout",
     "output_type": "stream",
     "text": [
      "The value of a = 5, b = 3.2, c= Hello\n"
     ]
    }
   ],
   "source": [
    "print('The value of a = '+str(a)+', b = '+str(b)+', c = '+c)"
   ]
  },
  {
   "cell_type": "code",
   "execution_count": 29,
   "metadata": {},
   "outputs": [
    {
     "name": "stdout",
     "output_type": "stream",
     "text": [
      "10/3 = 3.3333333333333335\n",
      "10/3 = 3.33\n"
     ]
    }
   ],
   "source": [
    "# formatting values\n",
    "a,b = 10,3\n",
    "print(f'{a}/{b} = {a/b}')\n",
    "print(f'{a}/{b} = {a/b:.2f}') #.2f = 2 Decimal places"
   ]
  },
  {
   "cell_type": "code",
   "execution_count": 30,
   "metadata": {},
   "outputs": [
    {
     "name": "stdout",
     "output_type": "stream",
     "text": [
      "You are Lana\n",
      "You are Lana      \n",
      "You are       Lana\n",
      "You are                        Lana                       \n"
     ]
    }
   ],
   "source": [
    "# alignment\n",
    "name = 'Lana'\n",
    "print(f'You are {name}')\n",
    "print(f'You are {name:10}') # 10 is the number of characters for display\n",
    "print(f'You are {name:>10}') # Right alignment\n",
    "print(f'You are {name:^50}') # centre alignment"
   ]
  },
  {
   "cell_type": "code",
   "execution_count": 32,
   "metadata": {},
   "outputs": [
    {
     "name": "stdout",
     "output_type": "stream",
     "text": [
      "🍎fruit 1:       Apple\n",
      "🫐fruit 2:   Blueberry\n",
      "🍒fruit 3:      Cherry\n",
      "🐲fruit 4: Dragonfruit\n"
     ]
    }
   ],
   "source": [
    "a,b,c,d  = 'Apple', 'Blueberry', 'Cherry', 'Dragonfruit'\n",
    "print (f'🍎fruit 1: {a:>11}')\n",
    "print (f'🫐fruit 2: {b:>11}')\n",
    "print (f'🍒fruit 3: {c:>11}')\n",
    "print (f'🐲fruit 4: {d:>11}')"
   ]
  },
  {
   "cell_type": "code",
   "execution_count": null,
   "metadata": {},
   "outputs": [],
   "source": []
  }
 ],
 "metadata": {
  "kernelspec": {
   "display_name": "base",
   "language": "python",
   "name": "python3"
  },
  "language_info": {
   "codemirror_mode": {
    "name": "ipython",
    "version": 3
   },
   "file_extension": ".py",
   "mimetype": "text/x-python",
   "name": "python",
   "nbconvert_exporter": "python",
   "pygments_lexer": "ipython3",
   "version": "3.12.3"
  }
 },
 "nbformat": 4,
 "nbformat_minor": 2
}
